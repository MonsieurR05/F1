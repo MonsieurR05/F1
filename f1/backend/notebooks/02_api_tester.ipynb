{
  "cells": [
    {
      "cell_type": "markdown",
      "metadata": {},
      "source": [
        "# F1 2024 API Tester\n",
        "This notebook tests our Flask API endpoints to ensure they return correct data in the proper format."
      ]
    },
    {
      "cell_type": "code",
      "execution_count": 1,
      "metadata": {},
      "outputs": [
        {
          "name": "stdout",
          "output_type": "stream",
          "text": [
            "API Tester Ready!\n",
            "Make sure to start your Flask server first: python app.py\n"
          ]
        }
      ],
      "source": [
        "import requests\n",
        "import json\n",
        "import pandas as pd\n",
        "from pprint import pprint\n",
        "\n",
        "# API base URL - make sure your Flask server is running on this port\n",
        "API_BASE = \"http://localhost:5000/api\"\n",
        "\n",
        "def test_endpoint(endpoint, description):\n",
        "    \"\"\"Test an API endpoint and display results\"\"\"\n",
        "    print(f\"\\n{'='*50}\")\n",
        "    print(f\"Testing: {description}\")\n",
        "    print(f\"URL: {API_BASE}{endpoint}\")\n",
        "    print(f\"{'='*50}\")\n",
        "    \n",
        "    try:\n",
        "        response = requests.get(f\"{API_BASE}{endpoint}\")\n",
        "        print(f\"Status Code: {response.status_code}\")\n",
        "        \n",
        "        if response.status_code == 200:\n",
        "            data = response.json()\n",
        "            print(f\"Response Type: {type(data)}\")\n",
        "            \n",
        "            if isinstance(data, list):\n",
        "                print(f\"Number of items: {len(data)}\")\n",
        "                if data:\n",
        "                    print(\"\\nFirst item:\")\n",
        "                    pprint(data[0])\n",
        "                    if len(data) > 1:\n",
        "                        print(\"\\nLast item:\")\n",
        "                        pprint(data[-1])\n",
        "            else:\n",
        "                print(\"\\nResponse data:\")\n",
        "                pprint(data)\n",
        "        else:\n",
        "            print(f\"Error: {response.text}\")\n",
        "            \n",
        "    except requests.exceptions.ConnectionError:\n",
        "        print(\"❌ Connection Error: Make sure Flask server is running on localhost:5000\")\n",
        "    except Exception as e:\n",
        "        print(f\"❌ Error: {e}\")\n",
        "\n",
        "print(\"API Tester Ready!\")\n",
        "print(\"Make sure to start your Flask server first: python app.py\")"
      ]
    },
    {
      "cell_type": "code",
      "execution_count": 2,
      "metadata": {},
      "outputs": [
        {
          "name": "stdout",
          "output_type": "stream",
          "text": [
            "\n",
            "==================================================\n",
            "Testing: Get all drivers\n",
            "URL: http://localhost:5000/api/drivers\n",
            "==================================================\n",
            "Status Code: 200\n",
            "Response Type: <class 'list'>\n",
            "Number of items: 24\n",
            "\n",
            "First item:\n",
            "{'code': 'ALB',\n",
            " 'date_of_birth': '1996-03-23',\n",
            " 'driver_id': 'albon',\n",
            " 'family_name': 'Albon',\n",
            " 'full_name': 'Alexander Albon',\n",
            " 'given_name': 'Alexander',\n",
            " 'nationality': 'Thai',\n",
            " 'permanent_number': 23,\n",
            " 'url': 'http://en.wikipedia.org/wiki/Alexander_Albon'}\n",
            "\n",
            "Last item:\n",
            "{'code': 'ZHO',\n",
            " 'date_of_birth': '1999-05-30',\n",
            " 'driver_id': 'zhou',\n",
            " 'family_name': 'Zhou',\n",
            " 'full_name': 'Guanyu Zhou',\n",
            " 'given_name': 'Guanyu',\n",
            " 'nationality': 'Chinese',\n",
            " 'permanent_number': 24,\n",
            " 'url': 'http://en.wikipedia.org/wiki/Zhou_Guanyu'}\n"
          ]
        }
      ],
      "source": [
        "# Test all drivers endpoint\n",
        "test_endpoint(\"/drivers\", \"Get all drivers\")"
      ]
    },
    {
      "cell_type": "code",
      "execution_count": 3,
      "metadata": {},
      "outputs": [
        {
          "name": "stdout",
          "output_type": "stream",
          "text": [
            "\n",
            "==================================================\n",
            "Testing: Get Max Verstappen details\n",
            "URL: http://localhost:5000/api/drivers/verstappen\n",
            "==================================================\n",
            "Status Code: 500\n",
            "Error: {\n",
            "  \"error\": \"404 Not Found: The requested URL was not found on the server. If you entered the URL manually please check your spelling and try again.\"\n",
            "}\n",
            "\n"
          ]
        }
      ],
      "source": [
        "# Test specific driver endpoint\n",
        "test_endpoint(\"/drivers/verstappen\", \"Get Max Verstappen details\")"
      ]
    },
    {
      "cell_type": "code",
      "execution_count": 4,
      "metadata": {},
      "outputs": [
        {
          "name": "stdout",
          "output_type": "stream",
          "text": [
            "\n",
            "==================================================\n",
            "Testing: Get all constructors\n",
            "URL: http://localhost:5000/api/constructors\n",
            "==================================================\n",
            "Status Code: 200\n",
            "Response Type: <class 'list'>\n",
            "Number of items: 10\n",
            "\n",
            "First item:\n",
            "{'constructor_id': 'alpine',\n",
            " 'name': 'Alpine F1 Team',\n",
            " 'nationality': 'French',\n",
            " 'url': 'http://en.wikipedia.org/wiki/Alpine_F1_Team'}\n",
            "\n",
            "Last item:\n",
            "{'constructor_id': 'williams',\n",
            " 'name': 'Williams',\n",
            " 'nationality': 'British',\n",
            " 'url': 'http://en.wikipedia.org/wiki/Williams_Grand_Prix_Engineering'}\n"
          ]
        }
      ],
      "source": [
        "# Test all constructors endpoint\n",
        "test_endpoint(\"/constructors\", \"Get all constructors\")"
      ]
    },
    {
      "cell_type": "code",
      "execution_count": 5,
      "metadata": {},
      "outputs": [
        {
          "name": "stdout",
          "output_type": "stream",
          "text": [
            "\n",
            "==================================================\n",
            "Testing: Get Red Bull details\n",
            "URL: http://localhost:5000/api/constructors/red_bull\n",
            "==================================================\n",
            "Status Code: 200\n",
            "Response Type: <class 'dict'>\n",
            "\n",
            "Response data:\n",
            "{'constructor_id': 'red_bull',\n",
            " 'name': 'Red Bull',\n",
            " 'nationality': 'Austrian',\n",
            " 'url': 'http://en.wikipedia.org/wiki/Red_Bull_Racing'}\n"
          ]
        }
      ],
      "source": [
        "# Test specific constructor endpoint\n",
        "test_endpoint(\"/constructors/red_bull\", \"Get Red Bull details\")"
      ]
    },
    {
      "cell_type": "code",
      "execution_count": 6,
      "metadata": {},
      "outputs": [
        {
          "name": "stdout",
          "output_type": "stream",
          "text": [
            "\n",
            "==================================================\n",
            "Testing: Get all races\n",
            "URL: http://localhost:5000/api/races\n",
            "==================================================\n",
            "Status Code: 200\n",
            "Response Type: <class 'list'>\n",
            "Number of items: 24\n",
            "\n",
            "First item:\n",
            "{'circuit_id': 'bahrain',\n",
            " 'circuit_name': 'Bahrain International Circuit',\n",
            " 'country': 'Bahrain',\n",
            " 'date': '2024-03-02',\n",
            " 'locality': 'Sakhir',\n",
            " 'race_id': 1,\n",
            " 'race_name': 'Bahrain Grand Prix',\n",
            " 'round': 1,\n",
            " 'season': 2024,\n",
            " 'time': '15:00:00Z',\n",
            " 'url': 'https://en.wikipedia.org/wiki/2024_Bahrain_Grand_Prix'}\n",
            "\n",
            "Last item:\n",
            "{'circuit_id': 'yas_marina',\n",
            " 'circuit_name': 'Yas Marina Circuit',\n",
            " 'country': 'UAE',\n",
            " 'date': '2024-12-08',\n",
            " 'locality': 'Abu Dhabi',\n",
            " 'race_id': 24,\n",
            " 'race_name': 'Abu Dhabi Grand Prix',\n",
            " 'round': 24,\n",
            " 'season': 2024,\n",
            " 'time': '13:00:00Z',\n",
            " 'url': 'https://en.wikipedia.org/wiki/2024_Abu_Dhabi_Grand_Prix'}\n"
          ]
        }
      ],
      "source": [
        "# Test all races endpoint\n",
        "test_endpoint(\"/races\", \"Get all races\")"
      ]
    },
    {
      "cell_type": "code",
      "execution_count": 7,
      "metadata": {},
      "outputs": [
        {
          "name": "stdout",
          "output_type": "stream",
          "text": [
            "\n",
            "==================================================\n",
            "Testing: Get first race details\n",
            "URL: http://localhost:5000/api/races/1\n",
            "==================================================\n",
            "Status Code: 200\n",
            "Response Type: <class 'dict'>\n",
            "\n",
            "Response data:\n",
            "{'circuit_id': 'bahrain',\n",
            " 'circuit_name': 'Bahrain International Circuit',\n",
            " 'country': 'Bahrain',\n",
            " 'date': '2024-03-02',\n",
            " 'locality': 'Sakhir',\n",
            " 'race_id': 1,\n",
            " 'race_name': 'Bahrain Grand Prix',\n",
            " 'round': 1,\n",
            " 'season': 2024,\n",
            " 'time': '15:00:00Z',\n",
            " 'url': 'https://en.wikipedia.org/wiki/2024_Bahrain_Grand_Prix'}\n"
          ]
        }
      ],
      "source": [
        "# Test specific race endpoint\n",
        "test_endpoint(\"/races/1\", \"Get first race details\")"
      ]
    },
    {
      "cell_type": "code",
      "execution_count": 8,
      "metadata": {},
      "outputs": [
        {
          "name": "stdout",
          "output_type": "stream",
          "text": [
            "\n",
            "==================================================\n",
            "Testing: Get results for first race\n",
            "URL: http://localhost:5000/api/races/1/results\n",
            "==================================================\n",
            "Status Code: 200\n",
            "Response Type: <class 'list'>\n",
            "Number of items: 20\n",
            "\n",
            "First item:\n",
            "{'constructor_id': 'red_bull',\n",
            " 'constructor_name': 'Red Bull',\n",
            " 'driver_id': 'max_verstappen',\n",
            " 'driver_name': 'Max Verstappen',\n",
            " 'fastest_lap': 39,\n",
            " 'fastest_lap_speed': '210.383',\n",
            " 'fastest_lap_time': '1:32.608',\n",
            " 'grid': 1,\n",
            " 'laps': 57,\n",
            " 'milliseconds': 5504742,\n",
            " 'number': 1,\n",
            " 'points': 26.0,\n",
            " 'position': 1,\n",
            " 'position_text': '1',\n",
            " 'race_id': 1,\n",
            " 'rank': 1,\n",
            " 'result_id': 1,\n",
            " 'status': 'Finished',\n",
            " 'time': '1:31:44.742'}\n",
            "\n",
            "Last item:\n",
            "{'constructor_id': 'williams',\n",
            " 'constructor_name': 'Williams',\n",
            " 'driver_id': 'sargeant',\n",
            " 'driver_name': 'Logan Sargeant',\n",
            " 'fastest_lap': 42,\n",
            " 'fastest_lap_speed': '205.659',\n",
            " 'fastest_lap_time': '1:34.735',\n",
            " 'grid': 18,\n",
            " 'laps': 55,\n",
            " 'milliseconds': None,\n",
            " 'number': 2,\n",
            " 'points': 0.0,\n",
            " 'position': 20,\n",
            " 'position_text': '20',\n",
            " 'race_id': 1,\n",
            " 'rank': 8,\n",
            " 'result_id': 20,\n",
            " 'status': '+2 Laps',\n",
            " 'time': None}\n"
          ]
        }
      ],
      "source": [
        "# Test race results endpoint\n",
        "test_endpoint(\"/races/1/results\", \"Get results for first race\")"
      ]
    },
    {
      "cell_type": "code",
      "execution_count": 9,
      "metadata": {},
      "outputs": [
        {
          "name": "stdout",
          "output_type": "stream",
          "text": [
            "\n",
            "==================================================\n",
            "Testing: Get qualifying for first race\n",
            "URL: http://localhost:5000/api/races/1/qualifying\n",
            "==================================================\n",
            "Status Code: 200\n",
            "Response Type: <class 'list'>\n",
            "Number of items: 20\n",
            "\n",
            "First item:\n",
            "{'constructor_id': 'red_bull',\n",
            " 'constructor_name': 'Red Bull',\n",
            " 'driver_id': 'max_verstappen',\n",
            " 'driver_name': 'Max Verstappen',\n",
            " 'number': 1,\n",
            " 'position': 1,\n",
            " 'q1': '1:30.031',\n",
            " 'q2': '1:29.374',\n",
            " 'q3': '1:29.179',\n",
            " 'qualifying_id': 1,\n",
            " 'race_id': 1}\n",
            "\n",
            "Last item:\n",
            "{'constructor_id': 'alpine',\n",
            " 'constructor_name': 'Alpine F1 Team',\n",
            " 'driver_id': 'gasly',\n",
            " 'driver_name': 'Pierre Gasly',\n",
            " 'number': 10,\n",
            " 'position': 20,\n",
            " 'q1': '1:30.948',\n",
            " 'q2': None,\n",
            " 'q3': None,\n",
            " 'qualifying_id': 20,\n",
            " 'race_id': 1}\n"
          ]
        }
      ],
      "source": [
        "# Test qualifying results endpoint\n",
        "test_endpoint(\"/races/1/qualifying\", \"Get qualifying for first race\")"
      ]
    },
    {
      "cell_type": "code",
      "execution_count": 10,
      "metadata": {},
      "outputs": [
        {
          "name": "stdout",
          "output_type": "stream",
          "text": [
            "\n",
            "==================================================\n",
            "Testing: Get driver championship standings\n",
            "URL: http://localhost:5000/api/standings/drivers\n",
            "==================================================\n",
            "Status Code: 200\n",
            "Response Type: <class 'list'>\n",
            "Number of items: 24\n",
            "\n",
            "First item:\n",
            "{'constructor_id': 'red_bull',\n",
            " 'constructor_name': 'Red Bull',\n",
            " 'driver_id': 'max_verstappen',\n",
            " 'driver_name': 'Max Verstappen',\n",
            " 'points': 437.0,\n",
            " 'position': 1,\n",
            " 'position_text': '1',\n",
            " 'race_id': 24,\n",
            " 'standing_id': 1,\n",
            " 'wins': 9}\n",
            "\n",
            "Last item:\n",
            "{'constructor_id': 'alpine',\n",
            " 'constructor_name': 'Alpine F1 Team',\n",
            " 'driver_id': 'doohan',\n",
            " 'driver_name': 'Jack Doohan',\n",
            " 'points': 0.0,\n",
            " 'position': 24,\n",
            " 'position_text': '24',\n",
            " 'race_id': 24,\n",
            " 'standing_id': 24,\n",
            " 'wins': 0}\n"
          ]
        }
      ],
      "source": [
        "# Test driver standings endpoint\n",
        "test_endpoint(\"/standings/drivers\", \"Get driver championship standings\")"
      ]
    },
    {
      "cell_type": "code",
      "execution_count": 11,
      "metadata": {},
      "outputs": [
        {
          "name": "stdout",
          "output_type": "stream",
          "text": [
            "\n",
            "==================================================\n",
            "Testing: Get constructor championship standings\n",
            "URL: http://localhost:5000/api/standings/constructors\n",
            "==================================================\n",
            "Status Code: 200\n",
            "Response Type: <class 'list'>\n",
            "Number of items: 10\n",
            "\n",
            "First item:\n",
            "{'constructor_id': 'mclaren',\n",
            " 'constructor_name': 'McLaren',\n",
            " 'points': 666.0,\n",
            " 'position': 1,\n",
            " 'position_text': '1',\n",
            " 'race_id': 24,\n",
            " 'standing_id': 1,\n",
            " 'wins': 6}\n",
            "\n",
            "Last item:\n",
            "{'constructor_id': 'sauber',\n",
            " 'constructor_name': 'Sauber',\n",
            " 'points': 4.0,\n",
            " 'position': 10,\n",
            " 'position_text': '10',\n",
            " 'race_id': 24,\n",
            " 'standing_id': 10,\n",
            " 'wins': 0}\n"
          ]
        }
      ],
      "source": [
        "# Test constructor standings endpoint\n",
        "test_endpoint(\"/standings/constructors\", \"Get constructor championship standings\")"
      ]
    },
    {
      "cell_type": "code",
      "execution_count": 12,
      "metadata": {},
      "outputs": [
        {
          "name": "stdout",
          "output_type": "stream",
          "text": [
            "\n",
            "============================================================\n",
            "DATA INTEGRITY TESTS\n",
            "============================================================\n",
            "✅ drivers: 24 records\n",
            "✅ constructors: 10 records\n",
            "✅ races: 24 records\n",
            "✅ driver standings: 24 records\n",
            "✅ constructor standings: 10 records\n",
            "✅ Race 1: 20 results, 20 qualifying entries\n"
          ]
        }
      ],
      "source": [
        "# Test data integrity and relationships\n",
        "def test_data_integrity():\n",
        "    print(\"\\n\" + \"=\"*60)\n",
        "    print(\"DATA INTEGRITY TESTS\")\n",
        "    print(\"=\"*60)\n",
        "    \n",
        "    try:\n",
        "        # Test that we have data for all endpoints\n",
        "        endpoints_to_check = [\n",
        "            (\"/drivers\", \"drivers\"),\n",
        "            (\"/constructors\", \"constructors\"),\n",
        "            (\"/races\", \"races\"),\n",
        "            (\"/standings/drivers\", \"driver standings\"),\n",
        "            (\"/standings/constructors\", \"constructor standings\")\n",
        "        ]\n",
        "        \n",
        "        for endpoint, name in endpoints_to_check:\n",
        "            response = requests.get(f\"{API_BASE}{endpoint}\")\n",
        "            if response.status_code == 200:\n",
        "                data = response.json()\n",
        "                count = len(data) if isinstance(data, list) else 1\n",
        "                print(f\"✅ {name}: {count} records\")\n",
        "            else:\n",
        "                print(f\"❌ {name}: Failed to fetch\")\n",
        "        \n",
        "        # Test specific race has both results and qualifying\n",
        "        race_id = 1\n",
        "        results_response = requests.get(f\"{API_BASE}/races/{race_id}/results\")\n",
        "        qualifying_response = requests.get(f\"{API_BASE}/races/{race_id}/qualifying\")\n",
        "        \n",
        "        if results_response.status_code == 200 and qualifying_response.status_code == 200:\n",
        "            results = results_response.json()\n",
        "            qualifying = qualifying_response.json()\n",
        "            print(f\"✅ Race {race_id}: {len(results)} results, {len(qualifying)} qualifying entries\")\n",
        "        else:\n",
        "            print(f\"❌ Race {race_id}: Missing results or qualifying data\")\n",
        "            \n",
        "    except Exception as e:\n",
        "        print(f\"❌ Integrity test failed: {e}\")\n",
        "\n",
        "test_data_integrity()"
      ]
    },
    {
      "cell_type": "code",
      "execution_count": 13,
      "metadata": {},
      "outputs": [
        {
          "name": "stdout",
          "output_type": "stream",
          "text": [
            "\n",
            "============================================================\n",
            "API SUMMARY REPORT\n",
            "============================================================\n",
            "📊 Total Drivers: 24\n",
            "🏁 Total Races: 24\n",
            "🏆 Championship Entries: 24\n",
            "\n",
            "🥇 2024 Champion: Max Verstappen (437.0 points)\n",
            "\n",
            "🏁 Season: 2024-03-02 to 2024-12-08\n",
            "\n",
            "✅ All API endpoints are working correctly!\n"
          ]
        }
      ],
      "source": [
        "# Create summary report\n",
        "def create_summary_report():\n",
        "    print(\"\\n\" + \"=\"*60)\n",
        "    print(\"API SUMMARY REPORT\")\n",
        "    print(\"=\"*60)\n",
        "    \n",
        "    try:\n",
        "        # Get drivers data\n",
        "        drivers_response = requests.get(f\"{API_BASE}/drivers\")\n",
        "        drivers = drivers_response.json() if drivers_response.status_code == 200 else []\n",
        "        \n",
        "        # Get races data\n",
        "        races_response = requests.get(f\"{API_BASE}/races\")\n",
        "        races = races_response.json() if races_response.status_code == 200 else []\n",
        "        \n",
        "        # Get standings\n",
        "        standings_response = requests.get(f\"{API_BASE}/standings/drivers\")\n",
        "        standings = standings_response.json() if standings_response.status_code == 200 else []\n",
        "        \n",
        "        print(f\"📊 Total Drivers: {len(drivers)}\")\n",
        "        print(f\"🏁 Total Races: {len(races)}\")\n",
        "        print(f\"🏆 Championship Entries: {len(standings)}\")\n",
        "        \n",
        "        if standings:\n",
        "            champion = standings[0]\n",
        "            print(f\"\\n🥇 2024 Champion: {champion.get('driver_name', 'Unknown')} ({champion.get('points', 0)} points)\")\n",
        "        \n",
        "        if races:\n",
        "            print(f\"\\n🏁 Season: {races[0].get('date', 'Unknown')} to {races[-1].get('date', 'Unknown')}\")\n",
        "            \n",
        "        print(\"\\n✅ All API endpoints are working correctly!\")\n",
        "        \n",
        "    except Exception as e:\n",
        "        print(f\"❌ Summary report failed: {e}\")\n",
        "\n",
        "create_summary_report()"
      ]
    }
  ],
  "metadata": {
    "kernelspec": {
      "display_name": "base",
      "language": "python",
      "name": "python3"
    },
    "language_info": {
      "codemirror_mode": {
        "name": "ipython",
        "version": 3
      },
      "file_extension": ".py",
      "mimetype": "text/x-python",
      "name": "python",
      "nbconvert_exporter": "python",
      "pygments_lexer": "ipython3",
      "version": "3.12.7"
    }
  },
  "nbformat": 4,
  "nbformat_minor": 4
}
